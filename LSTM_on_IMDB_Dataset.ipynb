{
  "cells": [
    {
      "cell_type": "markdown",
      "metadata": {
        "id": "view-in-github",
        "colab_type": "text"
      },
      "source": [
        "<a href=\"https://colab.research.google.com/github/Vineetttt/MachineLearning-II/blob/main/LSTM_on_IMDB_Dataset.ipynb\" target=\"_parent\"><img src=\"https://colab.research.google.com/assets/colab-badge.svg\" alt=\"Open In Colab\"/></a>"
      ]
    },
    {
      "cell_type": "markdown",
      "source": [
        "## LSTM Experiment on IMDB Movie Review Dataset\n"
      ],
      "metadata": {
        "id": "Qtdo2Tl5yAJN"
      }
    },
    {
      "cell_type": "code",
      "execution_count": 1,
      "metadata": {
        "id": "-HQmhSkD10dq"
      },
      "outputs": [],
      "source": [
        "import numpy\n",
        "from keras.datasets import imdb\n",
        "from keras.models import Sequential\n",
        "from keras.layers import Dense\n",
        "from keras.layers import LSTM\n",
        "from keras.layers import Embedding\n",
        "from keras.preprocessing import sequence\n",
        "from keras.preprocessing.sequence import pad_sequences\n",
        "\n",
        "# fix random seed for reproducibility\n",
        "#numpy.random.seed(7)"
      ]
    },
    {
      "cell_type": "code",
      "execution_count": 3,
      "metadata": {
        "id": "WKKlKKsy3ZeT"
      },
      "outputs": [],
      "source": [
        "top_words = 5000\n",
        "\"\"\"\n",
        "    Load the IMDB Movie Review dataset and train them into train and split from imdb.load_dataset\n",
        "    Also mention the num_words parameter as top_words\n",
        "\"\"\"\n",
        "(X_train, y_train), (X_test, y_test) = imdb.load_data(num_words=top_words)"
      ]
    },
    {
      "cell_type": "code",
      "execution_count": 4,
      "metadata": {
        "id": "oILf-5_z3a35",
        "outputId": "5c121332-7eb1-43db-f72e-e0bec86eb205",
        "colab": {
          "base_uri": "https://localhost:8080/"
        }
      },
      "outputs": [
        {
          "output_type": "stream",
          "name": "stdout",
          "text": [
            "[1, 194, 1153, 194, 2, 78, 228, 5, 6, 1463, 4369, 2, 134, 26, 4, 715, 8, 118, 1634, 14, 394, 20, 13, 119, 954, 189, 102, 5, 207, 110, 3103, 21, 14, 69, 188, 8, 30, 23, 7, 4, 249, 126, 93, 4, 114, 9, 2300, 1523, 5, 647, 4, 116, 9, 35, 2, 4, 229, 9, 340, 1322, 4, 118, 9, 4, 130, 4901, 19, 4, 1002, 5, 89, 29, 952, 46, 37, 4, 455, 9, 45, 43, 38, 1543, 1905, 398, 4, 1649, 26, 2, 5, 163, 11, 3215, 2, 4, 1153, 9, 194, 775, 7, 2, 2, 349, 2637, 148, 605, 2, 2, 15, 123, 125, 68, 2, 2, 15, 349, 165, 4362, 98, 5, 4, 228, 9, 43, 2, 1157, 15, 299, 120, 5, 120, 174, 11, 220, 175, 136, 50, 9, 4373, 228, 2, 5, 2, 656, 245, 2350, 5, 4, 2, 131, 152, 491, 18, 2, 32, 2, 1212, 14, 9, 6, 371, 78, 22, 625, 64, 1382, 9, 8, 168, 145, 23, 4, 1690, 15, 16, 4, 1355, 5, 28, 6, 52, 154, 462, 33, 89, 78, 285, 16, 145, 95]\n",
            "<class 'list'>\n",
            "189\n",
            "0\n",
            "<class 'numpy.int64'>\n"
          ]
        }
      ],
      "source": [
        "print(X_train[1])\n",
        "print(type(X_train[1]))\n",
        "print(len(X_train[1]))\n",
        "print(y_train[1])\n",
        "print(type(y_train[1]))"
      ]
    },
    {
      "cell_type": "code",
      "execution_count": 6,
      "metadata": {
        "id": "J9OUayrQ3cBJ",
        "outputId": "5dda21d8-2fdb-446c-8963-2e24ee7b6868",
        "colab": {
          "base_uri": "https://localhost:8080/"
        }
      },
      "outputs": [
        {
          "output_type": "stream",
          "name": "stdout",
          "text": [
            "(25000, 400)\n",
            "[   0    0    0    0    0    0    0    0    0    0    0    0    0    0\n",
            "    0    0    0    0    0    0    0    0    0    0    0    0    0    0\n",
            "    0    0    0    0    0    0    0    0    0    0    0    0    0    0\n",
            "    0    0    0    0    0    0    0    0    0    0    0    0    0    0\n",
            "    0    0    0    0    0    0    0    0    0    0    0    0    0    0\n",
            "    0    0    0    0    0    0    0    0    0    0    0    0    0    0\n",
            "    0    0    0    0    0    0    0    0    0    0    0    0    0    0\n",
            "    0    0    0    0    0    0    0    0    0    0    0    0    0    0\n",
            "    0    0    0    0    0    0    0    0    0    0    0    0    0    0\n",
            "    0    0    0    0    0    0    0    0    0    0    0    0    0    0\n",
            "    0    0    0    0    0    0    0    0    0    0    0    0    0    0\n",
            "    0    0    0    0    0    0    0    0    0    0    0    0    0    0\n",
            "    0    0    0    0    0    0    0    0    0    0    0    0    0    0\n",
            "    0    0    0    0    0    0    0    0    0    0    0    0    0    0\n",
            "    0    0    0    0    0    0    0    0    0    0    0    0    0    0\n",
            "    0    1  194 1153  194    2   78  228    5    6 1463 4369    2  134\n",
            "   26    4  715    8  118 1634   14  394   20   13  119  954  189  102\n",
            "    5  207  110 3103   21   14   69  188    8   30   23    7    4  249\n",
            "  126   93    4  114    9 2300 1523    5  647    4  116    9   35    2\n",
            "    4  229    9  340 1322    4  118    9    4  130 4901   19    4 1002\n",
            "    5   89   29  952   46   37    4  455    9   45   43   38 1543 1905\n",
            "  398    4 1649   26    2    5  163   11 3215    2    4 1153    9  194\n",
            "  775    7    2    2  349 2637  148  605    2    2   15  123  125   68\n",
            "    2    2   15  349  165 4362   98    5    4  228    9   43    2 1157\n",
            "   15  299  120    5  120  174   11  220  175  136   50    9 4373  228\n",
            "    2    5    2  656  245 2350    5    4    2  131  152  491   18    2\n",
            "   32    2 1212   14    9    6  371   78   22  625   64 1382    9    8\n",
            "  168  145   23    4 1690   15   16    4 1355    5   28    6   52  154\n",
            "  462   33   89   78  285   16  145   95]\n"
          ]
        }
      ],
      "source": [
        "# truncate and/or pad input sequences\n",
        "max_review_length = 400\n",
        "\"\"\"\n",
        "    Apply padding to both X_train and x_test variables with above mentioned max_review_length\n",
        "\"\"\"\n",
        "X_train = pad_sequences(X_train,maxlen=max_review_length)\n",
        "X_test = pad_sequences(X_test,maxlen=max_review_length)\n",
        "\n",
        "print(X_train.shape)\n",
        "print(X_train[1])"
      ]
    },
    {
      "cell_type": "code",
      "execution_count": 7,
      "metadata": {
        "id": "G1_PRdMR3dpx"
      },
      "outputs": [],
      "source": [
        "import tensorflow as tf\n",
        "# Create the model\n",
        "\n",
        "embedding_vector_length = 32\n",
        "\n",
        "\"\"\"\n",
        "    Create LSTM Model using following Layers:\n",
        "    1. Embedding Layer\n",
        "    2. LSTM with 10 neurons\n",
        "    3. Dense Layer with sigmoid activation for Output\n",
        "\"\"\"\n",
        "model = Sequential()\n",
        "model.add(Embedding(top_words+1,embedding_vector_length,input_length=max_review_length))\n",
        "model.add(LSTM(10))\n",
        "model.add(Dense(1,activation='sigmoid'))"
      ]
    },
    {
      "cell_type": "code",
      "source": [
        "\"\"\"\n",
        "    Compile the model using following criteria:\n",
        "    compile(loss, optimizer, metrics=['accuracy'])\n",
        "\"\"\"\n",
        "model.compile(loss='binary_crossentropy',optimizer='RMSProp',metrics=['accuracy'])\n",
        "model.summary()"
      ],
      "metadata": {
        "id": "kfvU5KSlMLrL",
        "colab": {
          "base_uri": "https://localhost:8080/"
        },
        "outputId": "b0636a2f-8a31-4ffc-d81f-f20e1eac3bd3"
      },
      "execution_count": 10,
      "outputs": [
        {
          "output_type": "stream",
          "name": "stdout",
          "text": [
            "Model: \"sequential\"\n",
            "_________________________________________________________________\n",
            " Layer (type)                Output Shape              Param #   \n",
            "=================================================================\n",
            " embedding (Embedding)       (None, 400, 32)           160032    \n",
            "                                                                 \n",
            " lstm (LSTM)                 (None, 10)                1720      \n",
            "                                                                 \n",
            " dense (Dense)               (None, 1)                 11        \n",
            "                                                                 \n",
            "=================================================================\n",
            "Total params: 161763 (631.89 KB)\n",
            "Trainable params: 161763 (631.89 KB)\n",
            "Non-trainable params: 0 (0.00 Byte)\n",
            "_________________________________________________________________\n"
          ]
        }
      ]
    },
    {
      "cell_type": "code",
      "execution_count": 11,
      "metadata": {
        "id": "RSY2soKK3fux",
        "outputId": "7f192cf5-091f-4b8f-9b14-d36a7944ab3d",
        "colab": {
          "base_uri": "https://localhost:8080/"
        }
      },
      "outputs": [
        {
          "output_type": "stream",
          "name": "stdout",
          "text": [
            "Epoch 1/10\n",
            "98/98 [==============================] - 19s 127ms/step - loss: 0.6673 - accuracy: 0.6263 - val_loss: 0.6330 - val_accuracy: 0.6450\n",
            "Epoch 2/10\n",
            "98/98 [==============================] - 8s 86ms/step - loss: 0.5185 - accuracy: 0.7999 - val_loss: 0.4637 - val_accuracy: 0.8322\n",
            "Epoch 3/10\n",
            "98/98 [==============================] - 5s 56ms/step - loss: 0.4221 - accuracy: 0.8432 - val_loss: 0.3912 - val_accuracy: 0.8533\n",
            "Epoch 4/10\n",
            "98/98 [==============================] - 5s 56ms/step - loss: 0.3704 - accuracy: 0.8579 - val_loss: 0.3660 - val_accuracy: 0.8578\n",
            "Epoch 5/10\n",
            "98/98 [==============================] - 4s 41ms/step - loss: 0.3160 - accuracy: 0.8834 - val_loss: 0.4305 - val_accuracy: 0.8323\n",
            "Epoch 6/10\n",
            "98/98 [==============================] - 3s 30ms/step - loss: 0.2863 - accuracy: 0.8944 - val_loss: 0.3191 - val_accuracy: 0.8726\n",
            "Epoch 7/10\n",
            "98/98 [==============================] - 3s 31ms/step - loss: 0.2605 - accuracy: 0.9044 - val_loss: 0.3233 - val_accuracy: 0.8754\n",
            "Epoch 8/10\n",
            "98/98 [==============================] - 3s 32ms/step - loss: 0.2424 - accuracy: 0.9117 - val_loss: 0.3105 - val_accuracy: 0.8743\n",
            "Epoch 9/10\n",
            "98/98 [==============================] - 3s 32ms/step - loss: 0.2292 - accuracy: 0.9166 - val_loss: 0.3131 - val_accuracy: 0.8712\n",
            "Epoch 10/10\n",
            "98/98 [==============================] - 3s 30ms/step - loss: 0.2141 - accuracy: 0.9228 - val_loss: 0.3173 - val_accuracy: 0.8765\n",
            "Accuracy: 87.65%\n"
          ]
        }
      ],
      "source": [
        "hist=model.fit(X_train, y_train, epochs=10, batch_size=256,verbose=1, validation_data=(X_test,y_test))\n",
        "\n",
        "# Final evaluation of the model\n",
        "scores = model.evaluate(X_test, y_test, verbose=0)\n",
        "\n",
        "\"\"\"\n",
        "    Print Accuracy acheived by model using the above created scores variable\n",
        "\"\"\"\n",
        "print(\"Accuracy: %.2f%%\" % ((scores[1] * 100)))"
      ]
    },
    {
      "cell_type": "code",
      "execution_count": 13,
      "metadata": {
        "id": "qk75Y2oLxvgG",
        "colab": {
          "base_uri": "https://localhost:8080/",
          "height": 430
        },
        "outputId": "baae9b0f-d2d4-4759-8897-c8adb054af95"
      },
      "outputs": [
        {
          "output_type": "display_data",
          "data": {
            "text/plain": [
              "<Figure size 640x480 with 1 Axes>"
            ],
            "image/png": "[encoded data removed]"
          },
          "metadata": {}
        }
      ],
      "source": [
        "import matplotlib.pyplot as plt\n",
        "\"\"\"\n",
        "    Plot graph between epoch vs Accuracy\n",
        "\"\"\"\n",
        "plt.plot(hist.history['accuracy'], color='r')\n",
        "plt.plot(hist.history['val_accuracy'], color='b')\n",
        "plt.legend(['Training Accuracy', 'Testing Accuracy'])\n",
        "plt.show()"
      ]
    },
    {
      "cell_type": "code",
      "source": [
        "import matplotlib.pyplot as plt\n",
        "\"\"\"\n",
        "    Plot graph between epoch vs loss\n",
        "\"\"\"\n",
        "plt.plot(hist.history['loss'], color='r')\n",
        "plt.plot(hist.history['val_loss'], color='b')\n",
        "plt.legend(['Training Loss', 'Testing Loss'])\n",
        "plt.show()"
      ],
      "metadata": {
        "id": "MnLtrd2cPKKl",
        "colab": {
          "base_uri": "https://localhost:8080/",
          "height": 430
        },
        "outputId": "5ed8518c-4c56-40ea-f1ad-894264a9e244"
      },
      "execution_count": 14,
      "outputs": [
        {
          "output_type": "display_data",
          "data": {
            "text/plain": [
              "<Figure size 640x480 with 1 Axes>"
            ],
            "image/png": "[encoded data removed]"
          },
          "metadata": {}
        }
      ]
    },
    {
      "cell_type": "code",
      "execution_count": 15,
      "metadata": {
        "id": "ljHLeFMbxvgH",
        "colab": {
          "base_uri": "https://localhost:8080/"
        },
        "outputId": "2cd346e2-5514-488e-ae51-f3980c6d11db"
      },
      "outputs": [
        {
          "output_type": "stream",
          "name": "stdout",
          "text": [
            "782/782 [==============================] - 5s 6ms/step\n",
            "[[0.08500262]\n",
            " [0.97996855]\n",
            " [0.90178055]\n",
            " ...\n",
            " [0.06626995]\n",
            " [0.09663638]\n",
            " [0.8502137 ]]\n"
          ]
        }
      ],
      "source": [
        "pred=model.predict(X_test)\n",
        "print(pred)"
      ]
    }
  ],
  "metadata": {
    "colab": {
      "provenance": [],
      "gpuType": "T4",
      "include_colab_link": true
    },
    "kernelspec": {
      "display_name": "Python 3",
      "name": "python3"
    },
    "language_info": {
      "codemirror_mode": {
        "name": "ipython",
        "version": 3
      },
      "file_extension": ".py",
      "mimetype": "text/x-python",
      "name": "python",
      "nbconvert_exporter": "python",
      "pygments_lexer": "ipython3",
      "version": "3.10.0"
    },
    "accelerator": "GPU"
  },
  "nbformat": 4,
  "nbformat_minor": 0
}