{
  "nbformat": 4,
  "nbformat_minor": 0,
  "metadata": {
    "colab": {
      "provenance": [],
      "authorship_tag": "ABX9TyNCdckhlnOkblnQ3gVXhq8s",
      "include_colab_link": true
    },
    "kernelspec": {
      "name": "python3",
      "display_name": "Python 3"
    },
    "language_info": {
      "name": "python"
    }
  },
  "cells": [
    {
      "cell_type": "markdown",
      "metadata": {
        "id": "view-in-github",
        "colab_type": "text"
      },
      "source": [
        "<a href=\"https://colab.research.google.com/github/Vineetttt/MachineLearning-II/blob/main/Backpropogation_on_IRIS_Dataset.ipynb\" target=\"_parent\"><img src=\"https://colab.research.google.com/assets/colab-badge.svg\" alt=\"Open In Colab\"/></a>"
      ]
    },
    {
      "cell_type": "code",
      "execution_count": 417,
      "metadata": {
        "id": "DVTEkZ5E9xub"
      },
      "outputs": [],
      "source": [
        "import numpy as np\n",
        "import pandas as pd\n",
        "from sklearn.datasets import load_iris\n",
        "from sklearn.model_selection import train_test_split\n",
        "import matplotlib.pyplot as plt"
      ]
    },
    {
      "cell_type": "markdown",
      "source": [
        "Loading the Iris Dataset"
      ],
      "metadata": {
        "id": "CWL-zxdgN0Cu"
      }
    },
    {
      "cell_type": "code",
      "source": [
        "data = load_iris()\n",
        "X = data.data\n",
        "y = data.target"
      ],
      "metadata": {
        "id": "TfgA-QHa-J4T"
      },
      "execution_count": 433,
      "outputs": []
    },
    {
      "cell_type": "markdown",
      "source": [
        "One Hot Encoding"
      ],
      "metadata": {
        "id": "lPOKxvjwN3-r"
      }
    },
    {
      "cell_type": "code",
      "source": [
        "y = pd.get_dummies(y).values"
      ],
      "metadata": {
        "id": "djXv0UpL-ju1"
      },
      "execution_count": 434,
      "outputs": []
    },
    {
      "cell_type": "markdown",
      "source": [
        "Train-test split"
      ],
      "metadata": {
        "id": "ojJ6Sv2LOCZY"
      }
    },
    {
      "cell_type": "code",
      "source": [
        "X_train, X_test, y_train, y_test = train_test_split(X, y, test_size=20,random_state=4)"
      ],
      "metadata": {
        "id": "b0VUjrV8_2nA"
      },
      "execution_count": 435,
      "outputs": []
    },
    {
      "cell_type": "markdown",
      "source": [
        "Constant parameters"
      ],
      "metadata": {
        "id": "uQVqDhnrOExQ"
      }
    },
    {
      "cell_type": "code",
      "source": [
        "learning_rate = 0.1\n",
        "iterations = 5000\n",
        "n = y_train.size\n",
        "\n",
        "input_size = 4\n",
        "output_size = 3\n",
        "hidden_size = 2\n",
        "\n",
        "results=pd.DataFrame(columns=[\"mse\",\"accuracy\"])"
      ],
      "metadata": {
        "id": "vQ-zHbhNAFiv"
      },
      "execution_count": 436,
      "outputs": []
    },
    {
      "cell_type": "markdown",
      "source": [
        "Initialize random weights"
      ],
      "metadata": {
        "id": "--1sPzOEOYbr"
      }
    },
    {
      "cell_type": "code",
      "source": [
        "np.random.seed(10)\n",
        "\n",
        "W1=np.random.normal(scale=0.5,size=(input_size,hidden_size))\n",
        "W2=np.random.normal(scale=0.5,size=(hidden_size,output_size))"
      ],
      "metadata": {
        "id": "Lo-ZQRH4AfNF"
      },
      "execution_count": 422,
      "outputs": []
    },
    {
      "cell_type": "markdown",
      "source": [
        "Helper Functions"
      ],
      "metadata": {
        "id": "_CwW4kVnOfMM"
      }
    },
    {
      "cell_type": "code",
      "source": [
        "def sigmoid(x):\n",
        "  return 1/(1+np.exp(-x))\n",
        "\n",
        "def mean_squared_error(y_pred,y):\n",
        "  return ((y_pred - y)**2).sum() / y_pred.size\n",
        "\n",
        "def accuracy(y_pred,y):\n",
        "  acc = y_pred.argmax(axis =1) == y.argmax(axis =1)\n",
        "  return acc.mean()"
      ],
      "metadata": {
        "id": "OxKVe3izAxA7"
      },
      "execution_count": 423,
      "outputs": []
    },
    {
      "cell_type": "code",
      "source": [
        "for itr in range(iterations):\n",
        "    # Feedforward Propogation\n",
        "    # On Hidden Layer\n",
        "    Z1 = np.dot(X_train, W1)\n",
        "    A1 = sigmoid(Z1)\n",
        "\n",
        "    # On Output Layer\n",
        "    Z2 = np.dot(A1, W2)\n",
        "    A2 = sigmoid(Z2)\n",
        "\n",
        "    mse = mean_squared_error(A2, y_train)\n",
        "    acc = accuracy(A2, y_train)\n",
        "\n",
        "    df = pd.DataFrame({\"mse\": [mse], \"accuracy\": [acc]})\n",
        "    results = pd.concat([results, df], ignore_index=True)\n",
        "\n",
        "    # Backpropogation\n",
        "    E1 = A2 - y_train\n",
        "    dW1 = E1 * A2 * (1 - A2)\n",
        "\n",
        "    E2 = np.dot(dW1, W2.T)\n",
        "    dW2 = E2 * A1 * (1 - A1)\n",
        "\n",
        "    # Weight Updation\n",
        "    W2_update = np.dot(A1.T, dW1) / len(y_train)\n",
        "    W1_update = np.dot(X_train.T, dW2) / len(y_train)\n",
        "\n",
        "    W2 = W2 - learning_rate * W2_update\n",
        "    W1 = W1 - learning_rate * W1_update\n",
        "\n",
        "    if itr % 500 == 0:\n",
        "        print(f\"Iteration {itr}: MSE = {mse}, Accuracy = {acc}\")"
      ],
      "metadata": {
        "colab": {
          "base_uri": "https://localhost:8080/"
        },
        "id": "Vuc2tRvaBrTg",
        "outputId": "9c6032d2-59eb-4f5c-b2b5-ec364e2f72b1"
      },
      "execution_count": 424,
      "outputs": [
        {
          "output_type": "stream",
          "name": "stdout",
          "text": [
            "Iteration 0: MSE = 0.278200370716067, Accuracy = 0.33076923076923076\n",
            "Iteration 500: MSE = 0.16343180041999097, Accuracy = 0.6692307692307692\n",
            "Iteration 1000: MSE = 0.13168256817110216, Accuracy = 0.7692307692307693\n",
            "Iteration 1500: MSE = 0.12331510883688317, Accuracy = 0.6846153846153846\n",
            "Iteration 2000: MSE = 0.11989866183720252, Accuracy = 0.8076923076923077\n",
            "Iteration 2500: MSE = 0.11784063267841628, Accuracy = 0.9\n",
            "Iteration 3000: MSE = 0.11597485143416959, Accuracy = 0.9692307692307692\n",
            "Iteration 3500: MSE = 0.11364605070992166, Accuracy = 0.9769230769230769\n",
            "Iteration 4000: MSE = 0.11071088788450986, Accuracy = 0.9846153846153847\n",
            "Iteration 4500: MSE = 0.10757351321094594, Accuracy = 0.9846153846153847\n"
          ]
        }
      ]
    },
    {
      "cell_type": "code",
      "source": [
        "print(\"MSE = \",mse)\n",
        "print(\"Accuracy = \",acc)"
      ],
      "metadata": {
        "colab": {
          "base_uri": "https://localhost:8080/"
        },
        "id": "91G-zKNYC6u1",
        "outputId": "133047d8-a089-419d-d6ec-8d07a3d6bac6"
      },
      "execution_count": 425,
      "outputs": [
        {
          "output_type": "stream",
          "name": "stdout",
          "text": [
            "MSE =  0.10467992137236296\n",
            "Accuracy =  0.9846153846153847\n"
          ]
        }
      ]
    },
    {
      "cell_type": "code",
      "source": [
        "print(\"W1 = \",W1)\n",
        "print(\"W2 = \",W2)\n",
        "print(\"Z1 = \",Z1)\n",
        "print(\"Z2 = \",Z2)"
      ],
      "metadata": {
        "colab": {
          "base_uri": "https://localhost:8080/"
        },
        "id": "fZO1UrmiH0P_",
        "outputId": "6e4a5058-b55a-4fd4-cc80-5a7a6d4efcbd"
      },
      "execution_count": 426,
      "outputs": [
        {
          "output_type": "stream",
          "name": "stdout",
          "text": [
            "W1 =  [[ 0.16668698  0.92133868]\n",
            " [-1.69823991  1.15696048]\n",
            " [ 1.48166491 -1.8397513 ]\n",
            " [ 0.68987133 -0.85503176]]\n",
            "W2 =  [[-3.68608729  0.30890062  0.99905156]\n",
            " [ 2.7693619  -1.12790992 -4.14804987]]\n",
            "Z1 =  [[-2.68465998  5.92961258]\n",
            " [ 5.40656684 -2.29156716]\n",
            " [ 4.99942849 -1.30422802]\n",
            " [-2.29370861  5.25414223]\n",
            " [-2.14205725  4.917358  ]\n",
            " [-3.17343413  6.07849058]\n",
            " [-1.02254644  4.15831388]\n",
            " [-3.52056118  6.75300998]\n",
            " [-2.21682758  5.60962211]\n",
            " [ 5.24851725 -2.54001721]\n",
            " [ 3.50752761 -1.11565799]\n",
            " [-2.45503918  5.19318138]\n",
            " [ 6.70630066 -3.14463303]\n",
            " [-2.06539174  5.23816044]\n",
            " [ 2.50678132  0.34109093]\n",
            " [ 5.68249231 -2.63349935]\n",
            " [ 5.89726381 -2.24212043]\n",
            " [ 3.30575968 -0.0336315 ]\n",
            " [ 3.85076088 -0.17032979]\n",
            " [-3.09426065  5.98000116]\n",
            " [ 6.8133174  -2.62428596]\n",
            " [-2.57982619  5.6090808 ]\n",
            " [ 3.33731495  0.46707067]\n",
            " [-3.02258344  6.3246455 ]\n",
            " [ 6.12645359 -3.04790651]\n",
            " [-2.67887102  5.32283152]\n",
            " [-4.02331171  7.23989382]\n",
            " [ 3.14642418 -0.10313276]\n",
            " [ 3.70340668 -0.56929647]\n",
            " [ 5.37941473 -2.19849465]\n",
            " [-2.71629712  5.90901674]\n",
            " [ 3.22509439 -0.06411193]\n",
            " [ 8.67781776 -4.558837  ]\n",
            " [ 5.2288518  -2.61683727]\n",
            " [ 3.37644836  0.04453274]\n",
            " [ 3.14493238 -0.2321026 ]\n",
            " [-2.32556125  5.19886895]\n",
            " [ 2.23933104  0.77961066]\n",
            " [ 5.7068583  -2.40833351]\n",
            " [ 3.84836241 -1.04588608]\n",
            " [-2.72568858  5.33908397]\n",
            " [ 2.81028992 -0.02455888]\n",
            " [-2.56315397  5.70120236]\n",
            " [ 3.40979282  0.22877587]\n",
            " [ 5.63637551 -2.17857911]\n",
            " [ 4.60300355 -1.00890612]\n",
            " [ 4.58512729 -1.40218523]\n",
            " [ 2.9972808  -0.18564039]\n",
            " [-2.15603364  5.25536383]\n",
            " [ 4.41120613 -2.32569599]\n",
            " [ 5.74768941 -2.39398295]\n",
            " [-2.37517455  5.80660095]\n",
            " [ 3.2300827  -0.08795384]\n",
            " [ 6.06026796 -3.55390302]\n",
            " [-3.06761181  6.02443891]\n",
            " [ 4.42379671 -1.46314608]\n",
            " [ 4.17870772 -0.5176789 ]\n",
            " [ 4.68676196 -2.01533414]\n",
            " [ 5.09927398 -1.60091789]\n",
            " [-3.15326541  6.01780039]\n",
            " [ 5.86421674 -2.87179245]\n",
            " [ 3.33461911  0.03694328]\n",
            " [ 6.2790116  -2.6381043 ]\n",
            " [-2.96259015  6.55332637]\n",
            " [ 5.64486032 -2.35523277]\n",
            " [ 3.83417052 -0.7425577 ]\n",
            " [ 5.3350775  -1.78679225]\n",
            " [ 2.98778945  0.26603379]\n",
            " [ 5.24851725 -2.54001721]\n",
            " [ 3.08512696  0.38863577]\n",
            " [ 3.90266663 -1.2320311 ]\n",
            " [ 4.8468885  -2.25553084]\n",
            " [ 3.16659291 -0.16382295]\n",
            " [ 3.49045811  0.25925629]\n",
            " [ 5.42360871 -2.85173964]\n",
            " [ 3.88040294 -0.14119355]\n",
            " [ 3.14613642  0.06905494]\n",
            " [-3.72692013  6.39184254]\n",
            " [ 5.80498686 -2.59542947]\n",
            " [-1.89008477  4.96111546]\n",
            " [ 4.45605274 -0.5237761 ]\n",
            " [-3.03925566  6.23252394]\n",
            " [ 3.02571882 -0.45766169]\n",
            " [ 4.05322956 -0.81368848]\n",
            " [ 3.49453976 -0.51117206]\n",
            " [ 3.01294648  0.18150168]\n",
            " [-2.81214284  5.9153846 ]\n",
            " [ 5.31320146 -1.88974935]\n",
            " [ 4.25896963 -1.37129517]\n",
            " [ 2.90613563 -0.03092674]\n",
            " [ 1.80833959  1.1310325 ]\n",
            " [ 2.41035046  0.96507539]\n",
            " [-2.13706895  4.89351609]\n",
            " [-2.69463659  5.9772964 ]\n",
            " [ 5.02857568 -1.40584094]\n",
            " [ 4.81802908 -2.32610563]\n",
            " [-4.00314298  7.17920363]\n",
            " [-2.0130826   5.06055582]\n",
            " [-2.63653849  5.19291073]\n",
            " [ 5.07170887 -2.11870088]\n",
            " [-2.97696991  6.00723551]\n",
            " [-3.80417079  6.6886567 ]\n",
            " [ 5.5233543  -2.12682256]\n",
            " [ 6.02732689 -2.85404945]\n",
            " [ 3.54087206 -0.93141486]\n",
            " [-2.55816566  5.67736045]\n",
            " [-1.97893749  4.6618598 ]\n",
            " [-1.95556964  4.89378675]\n",
            " [ 6.27474208 -2.7170952 ]\n",
            " [ 3.51342257 -0.39291346]\n",
            " [-2.93463738  5.87731472]\n",
            " [-2.8811242   6.00086765]\n",
            " [ 5.72565924 -1.80996856]\n",
            " [ 4.18041503 -0.35403161]\n",
            " [ 4.63194485 -1.41843768]\n",
            " [-2.29690772  4.96152509]\n",
            " [-2.51183336  5.25711765]\n",
            " [ 5.07291291 -1.81754333]\n",
            " [ 2.32029371  0.36466219]\n",
            " [ 3.75921232 -0.89971284]\n",
            " [ 3.46789092 -0.5556098 ]\n",
            " [ 5.8490267  -2.56170297]\n",
            " [ 5.66404051 -2.68240306]\n",
            " [ 3.88760183 -0.13889842]\n",
            " [ 5.19292712 -2.1749234 ]\n",
            " [ 3.6619808   0.30721077]\n",
            " [ 4.56016775 -0.74147507]\n",
            " [ 6.09980476 -3.09234426]\n",
            " [ 5.80262214 -1.93459502]\n",
            " [ 7.83493318 -3.70305728]]\n",
            "Z2 =  [[ 2.52656545 -1.10546592 -4.07265582]\n",
            " [-3.41499012  0.20390785  0.61333365]\n",
            " [-3.06993169  0.06599664  0.10665002]\n",
            " [ 2.417195   -1.09401851 -4.03437288]\n",
            " [ 2.36197061 -1.08753856 -4.01238969]\n",
            " [ 2.61495671 -1.11320154 -4.09784841]\n",
            " [ 1.75174685 -1.02911553 -3.81944197]\n",
            " [ 2.66024269 -1.1180007  -4.11392445]\n",
            " [ 2.39714508 -1.09372682 -4.03420455]\n",
            " [-3.46403891  0.22479683  0.69022981]\n",
            " [-2.89496764  0.02143687 -0.05409402]\n",
            " [ 2.4626416  -1.09753594 -4.04558239]\n",
            " [-3.5668616   0.26190705  0.82610595]\n",
            " [ 2.34007591 -1.08748093 -4.01319496]\n",
            " [-1.78932587 -0.37378001 -1.50065365]\n",
            " [-3.48765606  0.23223035  0.71730583]\n",
            " [-3.4097052   0.19969456  0.59760828]\n",
            " [-2.19396396 -0.25665486 -1.07555519]\n",
            " [-2.34196384 -0.21371907 -0.91970684]\n",
            " [ 2.6026308  -1.11195704 -4.09370689]\n",
            " [-3.49451567  0.23228696  0.71719968]\n",
            " [ 2.49960859 -1.10231196 -4.06195968]\n",
            " [-1.85697258 -0.39520437 -1.58503579]\n",
            " [ 2.59334334 -1.1118365  -4.09368416]\n",
            " [-3.55224072  0.25709315  0.80854022]\n",
            " [ 2.51918591 -1.10287356 -4.06317332]\n",
            " [ 2.7025965  -1.1219526  -4.12692566]\n",
            " [-2.22042952 -0.23888657 -1.00943352]\n",
            " [-2.59626824 -0.10627266 -0.524271  ]\n",
            " [-3.39221242  0.1947746   0.57977477]\n",
            " [ 2.53329099 -1.10598022 -4.07429106]\n",
            " [-2.20451966 -0.24894604 -1.0468248 ]\n",
            " [-3.65641458  0.29713535  0.95546822]\n",
            " [-3.47760865  0.23044805  0.71101896]\n",
            " [-2.14845895 -0.27797688 -1.15425867]\n",
            " [-2.30884912 -0.20279569 -0.87674825]\n",
            " [ 2.42602823 -1.09449549 -4.03576807]\n",
            " [-1.43223574 -0.49433848 -1.94099096]\n",
            " [-3.44495857  0.2147391   0.65299336]\n",
            " [-2.88874673  0.00908847 -0.10061561]\n",
            " [ 2.52956421 -1.10381311 -4.06624987]\n",
            " [-2.10882171 -0.26582224 -1.10632745]\n",
            " [ 2.4964425  -1.1023336  -4.06218975]\n",
            " [-2.02544741 -0.32934038 -1.34322463]\n",
            " [-3.39103337  0.19305841  0.57332386]\n",
            " [-2.9092177   0.00437169 -0.11945397]\n",
            " [-3.10165766  0.08297942  0.16954785]\n",
            " [-2.25396762 -0.21769061 -0.93064839]\n",
            " [ 2.3725287  -1.09028093 -4.02229229]\n",
            " [-3.39501689  0.20474911  0.61745672]\n",
            " [-3.4424178   0.2135465   0.64859106]\n",
            " [ 2.44746587 -1.09852682 -4.05004836]\n",
            " [-2.22167692 -0.24217474 -1.02195723]\n",
            " [-3.60013175  0.27678051  0.88093521]\n",
            " [ 2.59881096 -1.11173493 -4.09304348]\n",
            " [-3.12147983  0.09313835  0.20713322]\n",
            " [-2.59607035 -0.11703889 -0.56507625]\n",
            " [-3.32640445  0.17338369  0.50175942]\n",
            " [-3.19854889  0.11763859  0.29640943]\n",
            " [ 2.61166807 -1.11279805 -4.09647257]\n",
            " [-3.52697004  0.24757553  0.77364075]\n",
            " [-2.1486884  -0.27625812 -1.14775362]\n",
            " [-3.49406064  0.23302457  0.72001723]\n",
            " [ 2.58429653 -1.11140546 -4.09247313]\n",
            " [-3.43279476  0.21003554  0.63573107]\n",
            " [-2.71478069 -0.06143383 -0.35982954]\n",
            " [-3.270758    0.14554328  0.39881904]\n",
            " [-1.94110937 -0.34462838 -1.39723762]\n",
            " [-3.46403891  0.22479683  0.69022981]\n",
            " [-1.87416944 -0.37697382 -1.51672835]\n",
            " [-2.98741616  0.04799501  0.04226452]\n",
            " [-3.39429074  0.19944032  0.59736521]\n",
            " [-2.26516988 -0.22160233 -0.94600138]\n",
            " [-2.01352333 -0.33706732 -1.3719597 ]\n",
            " [-3.5183773   0.24593623  0.767828  ]\n",
            " [-2.32410979 -0.22170306 -0.94913912]\n",
            " [-2.10125678 -0.28742175 -1.1878569 ]\n",
            " [ 2.67812269 -1.11904536 -4.11704874]\n",
            " [-3.48239233  0.22962082  0.70765926]\n",
            " [ 2.26641046 -1.07980699 -3.98754763]\n",
            " [-2.61333199 -0.11431492 -0.55555686]\n",
            " [ 2.59556573 -1.1118684  -4.09370119]\n",
            " [-2.44193671 -0.14263188 -0.65489169]\n",
            " [-2.77234508 -0.04286339 -0.29212105]\n",
            " [-2.53884671 -0.12319985 -0.58575667]\n",
            " [-2.00308736 -0.32073471 -1.30955526]\n",
            " [ 2.55304618 -1.10765115 -4.07970182]\n",
            " [-3.30413701  0.15926716  0.4492852 ]\n",
            " [-3.07381923  0.0762187   0.14521977]\n",
            " [-2.13136188 -0.26250698 -1.09481331]\n",
            " [-1.0729238  -0.587566   -2.2776135 ]\n",
            " [-1.37668598 -0.53353026 -2.08696859]\n",
            " [ 2.35975645 -1.08719709 -4.0111987 ]\n",
            " [ 2.52909613 -1.1057884  -4.07376001]\n",
            " [-3.11650644  0.08474239  0.17553694]\n",
            " [-3.40976712  0.206015    0.62156603]\n",
            " [ 2.701176   -1.12179339 -4.12638853]\n",
            " [ 2.31760652 -1.08468378 -4.00364165]\n",
            " [ 2.50777779 -1.10131722 -4.05780669]\n",
            " [-3.36564395  0.18591087  0.54741488]\n",
            " [ 2.5839006  -1.11044795 -4.08886172]\n",
            " [ 2.6856098  -1.12005721 -4.12053454]\n",
            " [-3.37610661  0.18748255  0.55288387]\n",
            " [-3.52602588  0.24668394  0.77030489]\n",
            " [-2.79918632 -0.01868869 -0.20173046]\n",
            " [ 2.49499674 -1.10214067 -4.06152595]\n",
            " [ 2.29588287 -1.08012263 -3.98736618]\n",
            " [ 2.29193855 -1.08151543 -3.99283067]\n",
            " [-3.50719645  0.23838539  0.73972574]\n",
            " [-2.46300756 -0.15473369 -0.70175453]\n",
            " [ 2.57562382 -1.10944997 -4.08546543]\n",
            " [ 2.56683877 -1.10900407 -4.08418579]\n",
            " [-3.28427767  0.14920736  0.41207734]\n",
            " [-2.48813061 -0.16104176 -0.72684296]\n",
            " [-3.11044159  0.08601223  0.18063444]\n",
            " [ 2.41331534 -1.09212081 -4.02736016]\n",
            " [ 2.47846736 -1.09916718 -4.05102642]\n",
            " [-3.27584269  0.14931862  0.41289354]\n",
            " [-1.72163851 -0.38457201 -1.53840095]\n",
            " [-2.80116643 -0.02432212 -0.22317923]\n",
            " [-2.56467881 -0.1117559  -0.54358078]\n",
            " [-3.4767447   0.22716619  0.69861792]\n",
            " [-3.49571433  0.23558825  0.72965875]\n",
            " [-2.32305251 -0.22230332 -0.95136526]\n",
            " [-3.38283917  0.19207201  0.56996759]\n",
            " [-1.99773772 -0.3489202  -1.41615557]\n",
            " [-2.75396754 -0.05836179 -0.35001578]\n",
            " [-3.55724116  0.25920028  0.81629449]\n",
            " [-3.32503891  0.16552642  0.47203657]\n",
            " [-3.61767319  0.28162143  0.89846681]]\n"
          ]
        }
      ]
    },
    {
      "cell_type": "code",
      "source": [
        "print(results.accuracy.plot(title=\"Accuracy VS Epoch\",color='violet'))"
      ],
      "metadata": {
        "colab": {
          "base_uri": "https://localhost:8080/",
          "height": 469
        },
        "id": "ze0BB1S5DI_q",
        "outputId": "c47fbb7b-ab20-4e34-d47e-e1e4b2b9bbb9"
      },
      "execution_count": 427,
      "outputs": [
        {
          "output_type": "stream",
          "name": "stdout",
          "text": [
            "Axes(0.125,0.11;0.775x0.77)\n"
          ]
        },
        {
          "output_type": "display_data",
          "data": {
            "text/plain": [
              "<Figure size 640x480 with 1 Axes>"
            ],
            "image/png": "[encoded data removed]"
          },
          "metadata": {}
        }
      ]
    },
    {
      "cell_type": "code",
      "source": [
        "print(results.mse.plot(title=\"Mean Squared Error vs Epoch\",color='violet'))"
      ],
      "metadata": {
        "colab": {
          "base_uri": "https://localhost:8080/",
          "height": 469
        },
        "id": "-Nph1h1gD31z",
        "outputId": "caa40d9a-a496-4b17-ce11-53cda960fcf4"
      },
      "execution_count": 428,
      "outputs": [
        {
          "output_type": "stream",
          "name": "stdout",
          "text": [
            "Axes(0.125,0.11;0.775x0.77)\n"
          ]
        },
        {
          "output_type": "display_data",
          "data": {
            "text/plain": [
              "<Figure size 640x480 with 1 Axes>"
            ],
            "image/png": "[encoded data removed]"
          },
          "metadata": {}
        }
      ]
    },
    {
      "cell_type": "code",
      "source": [
        "Z1_test = np.dot(X_test, W1)\n",
        "A1_test=sigmoid(Z1_test)"
      ],
      "metadata": {
        "id": "PU2M6WLvDUka"
      },
      "execution_count": 429,
      "outputs": []
    },
    {
      "cell_type": "code",
      "source": [
        "Z2_test = np.dot(A1_test, W2)\n",
        "A2_test=sigmoid(Z2_test)"
      ],
      "metadata": {
        "id": "vjmUyxa1DX5m"
      },
      "execution_count": 430,
      "outputs": []
    },
    {
      "cell_type": "code",
      "source": [
        "acc_test = accuracy(A2_test,y_test)\n",
        "print(acc_test)"
      ],
      "metadata": {
        "colab": {
          "base_uri": "https://localhost:8080/"
        },
        "id": "SpkakMcNDbM0",
        "outputId": "d280dcf6-d672-4f0b-9ce1-125e7dc7f12b"
      },
      "execution_count": 431,
      "outputs": [
        {
          "output_type": "stream",
          "name": "stdout",
          "text": [
            "0.95\n"
          ]
        }
      ]
    },
    {
      "cell_type": "code",
      "source": [
        "mse_test = mean_squared_error(A2_test,y_test)\n",
        "print(mse_test)"
      ],
      "metadata": {
        "colab": {
          "base_uri": "https://localhost:8080/"
        },
        "id": "l6SSGOfgHFAL",
        "outputId": "d6782074-3118-442f-8bd0-8b7aa216903d"
      },
      "execution_count": 432,
      "outputs": [
        {
          "output_type": "stream",
          "name": "stdout",
          "text": [
            "0.091982096674499\n"
          ]
        }
      ]
    }
  ]
}