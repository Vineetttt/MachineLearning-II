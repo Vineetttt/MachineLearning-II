{
  "nbformat": 4,
  "nbformat_minor": 0,
  "metadata": {
    "colab": {
      "provenance": [],
      "authorship_tag": "ABX9TyMBeHJrkjOTHFveqC/c7kHQ",
      "include_colab_link": true
    },
    "kernelspec": {
      "name": "python3",
      "display_name": "Python 3"
    },
    "language_info": {
      "name": "python"
    }
  },
  "cells": [
    {
      "cell_type": "markdown",
      "metadata": {
        "id": "view-in-github",
        "colab_type": "text"
      },
      "source": [
        "<a href=\"https://colab.research.google.com/github/Vineetttt/MachineLearning-II/blob/main/Logic_Gates_Using_Perceptron.ipynb\" target=\"_parent\"><img src=\"https://colab.research.google.com/assets/colab-badge.svg\" alt=\"Open In Colab\"/></a>"
      ]
    },
    {
      "cell_type": "code",
      "execution_count": 20,
      "metadata": {
        "id": "1tP9IJ7o0_CH"
      },
      "outputs": [],
      "source": [
        "import numpy as np"
      ]
    },
    {
      "cell_type": "code",
      "source": [
        "def threshold(x):\n",
        "  if x >= 0:\n",
        "    return 1\n",
        "  else:\n",
        "    return 0"
      ],
      "metadata": {
        "id": "wU4WrOJC2BZ2"
      },
      "execution_count": 21,
      "outputs": []
    },
    {
      "cell_type": "code",
      "source": [
        "def perceptron(x,w,b):\n",
        "  x = np.dot(w,x) + b\n",
        "  y = threshold(x)\n",
        "  return y"
      ],
      "metadata": {
        "id": "gQzGibbq2JK1"
      },
      "execution_count": 27,
      "outputs": []
    },
    {
      "cell_type": "markdown",
      "source": [
        "Test Cases"
      ],
      "metadata": {
        "id": "nyGVqILX3oMr"
      }
    },
    {
      "cell_type": "code",
      "source": [
        "test1 = np.array([0,0])\n",
        "test2 = np.array([0,1])\n",
        "test3 = np.array([1,0])\n",
        "test4 = np.array([1,1])"
      ],
      "metadata": {
        "id": "om2Rvzfc2Ttu"
      },
      "execution_count": 24,
      "outputs": []
    },
    {
      "cell_type": "markdown",
      "source": [
        "AND Gate"
      ],
      "metadata": {
        "id": "ZthoLNRg3qw3"
      }
    },
    {
      "cell_type": "code",
      "source": [
        "def AND_Gate(x):\n",
        "  w = np.array([1,1])\n",
        "  b = -2\n",
        "  return perceptron(x,w,b)"
      ],
      "metadata": {
        "id": "b6xKGFkS2rH7"
      },
      "execution_count": 25,
      "outputs": []
    },
    {
      "cell_type": "code",
      "source": [
        "print(\"AND(0,0) = \",AND_Gate(test1))\n",
        "print(\"AND(0,1) = \",AND_Gate(test2))\n",
        "print(\"AND(1,0) = \",AND_Gate(test3))\n",
        "print(\"AND(1,1) = \",AND_Gate(test4))"
      ],
      "metadata": {
        "colab": {
          "base_uri": "https://localhost:8080/"
        },
        "id": "Ruqae9tD2zLQ",
        "outputId": "0b0d2336-5b60-4277-cc9b-f5e41310ce75"
      },
      "execution_count": 28,
      "outputs": [
        {
          "output_type": "stream",
          "name": "stdout",
          "text": [
            "AND(0,0) =  0\n",
            "AND(0,1) =  0\n",
            "AND(1,0) =  0\n",
            "AND(1,1) =  1\n"
          ]
        }
      ]
    },
    {
      "cell_type": "markdown",
      "source": [
        "OR Gate"
      ],
      "metadata": {
        "id": "SxgLT1_k3sMp"
      }
    },
    {
      "cell_type": "code",
      "source": [
        "def OR_Gate(x):\n",
        "  w = np.array([1,1])\n",
        "  b = -1\n",
        "  return perceptron(x,w,b)"
      ],
      "metadata": {
        "id": "P11nqmAB3tUe"
      },
      "execution_count": 29,
      "outputs": []
    },
    {
      "cell_type": "code",
      "source": [
        "print(\"OR(0,0) = \",OR_Gate(test1))\n",
        "print(\"OR(0,1) = \",OR_Gate(test2))\n",
        "print(\"OR(1,0) = \",OR_Gate(test3))\n",
        "print(\"OR(1,1) = \",OR_Gate(test4))"
      ],
      "metadata": {
        "colab": {
          "base_uri": "https://localhost:8080/"
        },
        "id": "ez74Nto53zHd",
        "outputId": "c31004b0-4141-4462-b7a8-1923c892dbef"
      },
      "execution_count": 30,
      "outputs": [
        {
          "output_type": "stream",
          "name": "stdout",
          "text": [
            "OR(0,0) =  0\n",
            "OR(0,1) =  1\n",
            "OR(1,0) =  1\n",
            "OR(1,1) =  1\n"
          ]
        }
      ]
    },
    {
      "cell_type": "markdown",
      "source": [
        "NOT Gate"
      ],
      "metadata": {
        "id": "HB4mRMNF34Pp"
      }
    },
    {
      "cell_type": "code",
      "source": [
        "def NOT_Gate(x):\n",
        "  w = -1\n",
        "  b = 0.5\n",
        "  return perceptron(x,w,b)"
      ],
      "metadata": {
        "id": "pOiphX6Y31cG"
      },
      "execution_count": 31,
      "outputs": []
    },
    {
      "cell_type": "code",
      "source": [
        "print(\"NOT(1) = \",NOT_Gate(1))\n",
        "print(\"NOT(0) = \",NOT_Gate(0))"
      ],
      "metadata": {
        "colab": {
          "base_uri": "https://localhost:8080/"
        },
        "id": "WNMw51pf3-Bq",
        "outputId": "1ac4d2be-74a2-4c5d-c59a-507eeadf4880"
      },
      "execution_count": 32,
      "outputs": [
        {
          "output_type": "stream",
          "name": "stdout",
          "text": [
            "NOT(1) =  0\n",
            "NOT(0) =  1\n"
          ]
        }
      ]
    },
    {
      "cell_type": "markdown",
      "source": [
        "NAND Gate"
      ],
      "metadata": {
        "id": "C-anOQ1y4JQJ"
      }
    },
    {
      "cell_type": "code",
      "source": [
        "def NAND_Gate(x):\n",
        "  intermediate = AND_Gate(x)\n",
        "  final = NOT_Gate(intermediate)\n",
        "  return final"
      ],
      "metadata": {
        "id": "YrDzoGdh4LVh"
      },
      "execution_count": 14,
      "outputs": []
    },
    {
      "cell_type": "code",
      "source": [
        "print(\"NAND(0,0) = \",NAND_Gate(test1))\n",
        "print(\"NAND(0,1) = \",NAND_Gate(test2))\n",
        "print(\"NAND(1,0) = \",NAND_Gate(test3))\n",
        "print(\"NAND(1,1) = \",NAND_Gate(test4))"
      ],
      "metadata": {
        "colab": {
          "base_uri": "https://localhost:8080/"
        },
        "id": "j7M5xKnO4ZvY",
        "outputId": "b8b8b104-f062-4743-9dbe-065400b5a142"
      },
      "execution_count": 33,
      "outputs": [
        {
          "output_type": "stream",
          "name": "stdout",
          "text": [
            "NAND(0,0) =  1\n",
            "NAND(0,1) =  1\n",
            "NAND(1,0) =  1\n",
            "NAND(1,1) =  0\n"
          ]
        }
      ]
    },
    {
      "cell_type": "markdown",
      "source": [
        "NOR Gate"
      ],
      "metadata": {
        "id": "KeFQJTZL4tLq"
      }
    },
    {
      "cell_type": "code",
      "source": [
        "def NOR_Gate(x):\n",
        "  intermediate = OR_Gate(x)\n",
        "  final = NOT_Gate(intermediate)\n",
        "  return final"
      ],
      "metadata": {
        "id": "8Jjyo3pr4cli"
      },
      "execution_count": 34,
      "outputs": []
    },
    {
      "cell_type": "code",
      "source": [
        "print(\"NOR(0,0) = \",NOR_Gate(test1))\n",
        "print(\"NOR(0,1) = \",NOR_Gate(test2))\n",
        "print(\"NOR(1,0) = \",NOR_Gate(test3))\n",
        "print(\"NOR(1,1) = \",NOR_Gate(test4))"
      ],
      "metadata": {
        "colab": {
          "base_uri": "https://localhost:8080/"
        },
        "id": "GWSyBhBa4zMm",
        "outputId": "ca5109b4-1d7d-46cb-e936-ec7290d44532"
      },
      "execution_count": 35,
      "outputs": [
        {
          "output_type": "stream",
          "name": "stdout",
          "text": [
            "NOR(0,0) =  1\n",
            "NOR(0,1) =  0\n",
            "NOR(1,0) =  0\n",
            "NOR(1,1) =  0\n"
          ]
        }
      ]
    },
    {
      "cell_type": "markdown",
      "source": [
        "XOR Gate"
      ],
      "metadata": {
        "id": "wZdXc-Eo5TI6"
      }
    },
    {
      "cell_type": "code",
      "source": [
        "def XOR_Gate(x):\n",
        "  y1 = AND_Gate(x)\n",
        "  y2 = OR_Gate(x)\n",
        "  y3 = NOT_Gate(y1)\n",
        "  final_x = np.array([y2,y3])\n",
        "  final_y = AND_Gate(final_x)\n",
        "  return final_y"
      ],
      "metadata": {
        "id": "IgajChYg41oA"
      },
      "execution_count": 38,
      "outputs": []
    },
    {
      "cell_type": "code",
      "source": [
        "print(\"XOR(0,0) = \",XOR_Gate(test1))\n",
        "print(\"XOR(0,1) = \",XOR_Gate(test2))\n",
        "print(\"XOR(1,0) = \",XOR_Gate(test3))\n",
        "print(\"XOR(1,1) = \",XOR_Gate(test4))"
      ],
      "metadata": {
        "colab": {
          "base_uri": "https://localhost:8080/"
        },
        "id": "eJzIcPBr5ggr",
        "outputId": "fff8754c-c0ae-4a56-b797-1d0b309a37fc"
      },
      "execution_count": 39,
      "outputs": [
        {
          "output_type": "stream",
          "name": "stdout",
          "text": [
            "XOR(0,0) =  0\n",
            "XOR(0,1) =  1\n",
            "XOR(1,0) =  1\n",
            "XOR(1,1) =  0\n"
          ]
        }
      ]
    }
  ]
}